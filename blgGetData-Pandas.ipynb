{
 "cells": [
  {
   "cell_type": "markdown",
   "metadata": {},
   "source": [
    "Install pandas and requests libraries"
   ]
  },
  {
   "cell_type": "code",
   "execution_count": 1,
   "metadata": {},
   "outputs": [
    {
     "name": "stdout",
     "output_type": "stream",
     "text": [
      "Requirement already satisfied: pandas in c:\\python27\\lib\\site-packages (0.24.2)\n",
      "Requirement already satisfied: numpy>=1.12.0 in c:\\python27\\lib\\site-packages (from pandas) (1.16.6)\n",
      "Requirement already satisfied: pytz>=2011k in c:\\python27\\lib\\site-packages (from pandas) (2019.3)\n",
      "Requirement already satisfied: python-dateutil>=2.5.0 in c:\\python27\\lib\\site-packages (from pandas) (2.8.1)\n",
      "Requirement already satisfied: six>=1.5 in c:\\users\\adrian.oprea\\appdata\\roaming\\python\\python27\\site-packages (from python-dateutil>=2.5.0->pandas) (1.14.0)\n"
     ]
    },
    {
     "name": "stderr",
     "output_type": "stream",
     "text": [
      "DEPRECATION: Python 2.7 reached the end of its life on January 1st, 2020. Please upgrade your Python as Python 2.7 is no longer maintained. A future version of pip will drop support for Python 2.7. More details about Python 2 support in pip, can be found at https://pip.pypa.io/en/latest/development/release-process/#python-2-support\n"
     ]
    }
   ],
   "source": [
    "!python -m pip install pandas"
   ]
  },
  {
   "cell_type": "code",
   "execution_count": 2,
   "metadata": {},
   "outputs": [],
   "source": [
    "import pandas as pd"
   ]
  },
  {
   "cell_type": "markdown",
   "metadata": {},
   "source": [
    "Download the Data and load them into dataframes"
   ]
  },
  {
   "cell_type": "code",
   "execution_count": 3,
   "metadata": {},
   "outputs": [],
   "source": [
    "df_history = pd.read_csv('https://data.melbourne.vic.gov.au/api/views/b2ak-trbp/rows.csv?accessType=DOWNLOAD')"
   ]
  },
  {
   "cell_type": "code",
   "execution_count": 4,
   "metadata": {},
   "outputs": [],
   "source": [
    "df_sensor = pd.read_csv('https://data.melbourne.vic.gov.au/api/views/h57g-5234/rows.csv?accessType=DOWNLOAD')"
   ]
  },
  {
   "cell_type": "markdown",
   "metadata": {},
   "source": [
    "Change columns to lower (this is to address join condition latter)"
   ]
  },
  {
   "cell_type": "code",
   "execution_count": 5,
   "metadata": {},
   "outputs": [],
   "source": [
    "df_history_col = map(str.lower, df_history.columns)"
   ]
  },
  {
   "cell_type": "code",
   "execution_count": 6,
   "metadata": {},
   "outputs": [],
   "source": [
    "df_history.columns = df_history_col"
   ]
  },
  {
   "cell_type": "markdown",
   "metadata": {},
   "source": [
    "Review the column change"
   ]
  },
  {
   "cell_type": "code",
   "execution_count": 7,
   "metadata": {},
   "outputs": [
    {
     "data": {
      "text/html": [
       "<div>\n",
       "<style scoped>\n",
       "    .dataframe tbody tr th:only-of-type {\n",
       "        vertical-align: middle;\n",
       "    }\n",
       "\n",
       "    .dataframe tbody tr th {\n",
       "        vertical-align: top;\n",
       "    }\n",
       "\n",
       "    .dataframe thead th {\n",
       "        text-align: right;\n",
       "    }\n",
       "</style>\n",
       "<table border=\"1\" class=\"dataframe\">\n",
       "  <thead>\n",
       "    <tr style=\"text-align: right;\">\n",
       "      <th></th>\n",
       "      <th>id</th>\n",
       "      <th>date_time</th>\n",
       "      <th>year</th>\n",
       "      <th>month</th>\n",
       "      <th>mdate</th>\n",
       "      <th>day</th>\n",
       "      <th>time</th>\n",
       "      <th>sensor_id</th>\n",
       "      <th>sensor_name</th>\n",
       "      <th>hourly_counts</th>\n",
       "    </tr>\n",
       "  </thead>\n",
       "  <tbody>\n",
       "    <tr>\n",
       "      <th>0</th>\n",
       "      <td>2887628</td>\n",
       "      <td>11/01/2019 05:00:00 PM</td>\n",
       "      <td>2019</td>\n",
       "      <td>November</td>\n",
       "      <td>1</td>\n",
       "      <td>Friday</td>\n",
       "      <td>17</td>\n",
       "      <td>34</td>\n",
       "      <td>Flinders St-Spark La</td>\n",
       "      <td>300</td>\n",
       "    </tr>\n",
       "    <tr>\n",
       "      <th>1</th>\n",
       "      <td>2887629</td>\n",
       "      <td>11/01/2019 05:00:00 PM</td>\n",
       "      <td>2019</td>\n",
       "      <td>November</td>\n",
       "      <td>1</td>\n",
       "      <td>Friday</td>\n",
       "      <td>17</td>\n",
       "      <td>39</td>\n",
       "      <td>Alfred Place</td>\n",
       "      <td>604</td>\n",
       "    </tr>\n",
       "  </tbody>\n",
       "</table>\n",
       "</div>"
      ],
      "text/plain": [
       "        id               date_time  year     month  mdate     day  time  \\\n",
       "0  2887628  11/01/2019 05:00:00 PM  2019  November      1  Friday    17   \n",
       "1  2887629  11/01/2019 05:00:00 PM  2019  November      1  Friday    17   \n",
       "\n",
       "   sensor_id           sensor_name  hourly_counts  \n",
       "0         34  Flinders St-Spark La            300  \n",
       "1         39          Alfred Place            604  "
      ]
     },
     "execution_count": 7,
     "metadata": {},
     "output_type": "execute_result"
    }
   ],
   "source": [
    "df_history.head(2)"
   ]
  },
  {
   "cell_type": "markdown",
   "metadata": {},
   "source": [
    "Create new df from df_sensor and keep only column (sensor_id,sensor_description,sensor_name)"
   ]
  },
  {
   "cell_type": "code",
   "execution_count": 8,
   "metadata": {},
   "outputs": [],
   "source": [
    "df_sens = df_sensor[['sensor_id','sensor_description','sensor_name']]"
   ]
  },
  {
   "cell_type": "markdown",
   "metadata": {},
   "source": [
    "Create Daily Aggregation and get - Top 10 (most pedestrians) locations by day  "
   ]
  },
  {
   "cell_type": "code",
   "execution_count": 9,
   "metadata": {},
   "outputs": [],
   "source": [
    "agg_df_daily = df_history.groupby(['sensor_id','year','month','day']).hourly_counts.agg('sum').to_frame()"
   ]
  },
  {
   "cell_type": "code",
   "execution_count": 10,
   "metadata": {},
   "outputs": [],
   "source": [
    "Top10ByDay = agg_df_daily.sort_values(by='hourly_counts', ascending=False).head(10)"
   ]
  },
  {
   "cell_type": "markdown",
   "metadata": {},
   "source": [
    "Create Monthly Aggregation and get - Top 10 (most pedestrians) locations by month"
   ]
  },
  {
   "cell_type": "code",
   "execution_count": 11,
   "metadata": {},
   "outputs": [],
   "source": [
    "agg_df_monthly = df_history.groupby(['sensor_id','year','month']).hourly_counts.agg('sum').to_frame()\n",
    "Top10ByMonth = agg_df_monthly.sort_values(by='hourly_counts', ascending=False).head(10)"
   ]
  },
  {
   "cell_type": "markdown",
   "metadata": {},
   "source": [
    "Join Sensor data with Top10 Aggregated data"
   ]
  },
  {
   "cell_type": "code",
   "execution_count": 12,
   "metadata": {},
   "outputs": [],
   "source": [
    "my_Top10ByMonth = df_sens.merge(Top10ByMonth.reset_index(),on=['sensor_id'],how='right')\n",
    "my_Top10ByDay = df_sens.merge(Top10ByDay.reset_index(),on=['sensor_id'],how='right')"
   ]
  },
  {
   "cell_type": "markdown",
   "metadata": {},
   "source": [
    "View Final my_Top10ByMonth"
   ]
  },
  {
   "cell_type": "code",
   "execution_count": 13,
   "metadata": {},
   "outputs": [
    {
     "data": {
      "text/html": [
       "<div>\n",
       "<style scoped>\n",
       "    .dataframe tbody tr th:only-of-type {\n",
       "        vertical-align: middle;\n",
       "    }\n",
       "\n",
       "    .dataframe tbody tr th {\n",
       "        vertical-align: top;\n",
       "    }\n",
       "\n",
       "    .dataframe thead th {\n",
       "        text-align: right;\n",
       "    }\n",
       "</style>\n",
       "<table border=\"1\" class=\"dataframe\">\n",
       "  <thead>\n",
       "    <tr style=\"text-align: right;\">\n",
       "      <th></th>\n",
       "      <th>sensor_id</th>\n",
       "      <th>sensor_description</th>\n",
       "      <th>sensor_name</th>\n",
       "      <th>year</th>\n",
       "      <th>month</th>\n",
       "      <th>hourly_counts</th>\n",
       "    </tr>\n",
       "  </thead>\n",
       "  <tbody>\n",
       "    <tr>\n",
       "      <th>0</th>\n",
       "      <td>38</td>\n",
       "      <td>Flinders St-Swanston St (West)</td>\n",
       "      <td>Swa11_T</td>\n",
       "      <td>2015</td>\n",
       "      <td>March</td>\n",
       "      <td>1966429</td>\n",
       "    </tr>\n",
       "    <tr>\n",
       "      <th>1</th>\n",
       "      <td>38</td>\n",
       "      <td>Flinders St-Swanston St (West)</td>\n",
       "      <td>Swa11_T</td>\n",
       "      <td>2016</td>\n",
       "      <td>March</td>\n",
       "      <td>1951326</td>\n",
       "    </tr>\n",
       "    <tr>\n",
       "      <th>2</th>\n",
       "      <td>38</td>\n",
       "      <td>Flinders St-Swanston St (West)</td>\n",
       "      <td>Swa11_T</td>\n",
       "      <td>2015</td>\n",
       "      <td>December</td>\n",
       "      <td>1931228</td>\n",
       "    </tr>\n",
       "    <tr>\n",
       "      <th>3</th>\n",
       "      <td>38</td>\n",
       "      <td>Flinders St-Swanston St (West)</td>\n",
       "      <td>Swa11_T</td>\n",
       "      <td>2016</td>\n",
       "      <td>April</td>\n",
       "      <td>1900791</td>\n",
       "    </tr>\n",
       "    <tr>\n",
       "      <th>4</th>\n",
       "      <td>38</td>\n",
       "      <td>Flinders St-Swanston St (West)</td>\n",
       "      <td>Swa11_T</td>\n",
       "      <td>2016</td>\n",
       "      <td>December</td>\n",
       "      <td>1857062</td>\n",
       "    </tr>\n",
       "    <tr>\n",
       "      <th>5</th>\n",
       "      <td>38</td>\n",
       "      <td>Flinders St-Swanston St (West)</td>\n",
       "      <td>Swa11_T</td>\n",
       "      <td>2016</td>\n",
       "      <td>January</td>\n",
       "      <td>1844471</td>\n",
       "    </tr>\n",
       "    <tr>\n",
       "      <th>6</th>\n",
       "      <td>38</td>\n",
       "      <td>Flinders St-Swanston St (West)</td>\n",
       "      <td>Swa11_T</td>\n",
       "      <td>2015</td>\n",
       "      <td>October</td>\n",
       "      <td>1820460</td>\n",
       "    </tr>\n",
       "    <tr>\n",
       "      <th>7</th>\n",
       "      <td>38</td>\n",
       "      <td>Flinders St-Swanston St (West)</td>\n",
       "      <td>Swa11_T</td>\n",
       "      <td>2015</td>\n",
       "      <td>November</td>\n",
       "      <td>1818857</td>\n",
       "    </tr>\n",
       "    <tr>\n",
       "      <th>8</th>\n",
       "      <td>38</td>\n",
       "      <td>Flinders St-Swanston St (West)</td>\n",
       "      <td>Swa11_T</td>\n",
       "      <td>2016</td>\n",
       "      <td>July</td>\n",
       "      <td>1811931</td>\n",
       "    </tr>\n",
       "    <tr>\n",
       "      <th>9</th>\n",
       "      <td>38</td>\n",
       "      <td>Flinders St-Swanston St (West)</td>\n",
       "      <td>Swa11_T</td>\n",
       "      <td>2016</td>\n",
       "      <td>August</td>\n",
       "      <td>1805067</td>\n",
       "    </tr>\n",
       "  </tbody>\n",
       "</table>\n",
       "</div>"
      ],
      "text/plain": [
       "   sensor_id              sensor_description sensor_name  year     month  \\\n",
       "0         38  Flinders St-Swanston St (West)     Swa11_T  2015     March   \n",
       "1         38  Flinders St-Swanston St (West)     Swa11_T  2016     March   \n",
       "2         38  Flinders St-Swanston St (West)     Swa11_T  2015  December   \n",
       "3         38  Flinders St-Swanston St (West)     Swa11_T  2016     April   \n",
       "4         38  Flinders St-Swanston St (West)     Swa11_T  2016  December   \n",
       "5         38  Flinders St-Swanston St (West)     Swa11_T  2016   January   \n",
       "6         38  Flinders St-Swanston St (West)     Swa11_T  2015   October   \n",
       "7         38  Flinders St-Swanston St (West)     Swa11_T  2015  November   \n",
       "8         38  Flinders St-Swanston St (West)     Swa11_T  2016      July   \n",
       "9         38  Flinders St-Swanston St (West)     Swa11_T  2016    August   \n",
       "\n",
       "   hourly_counts  \n",
       "0        1966429  \n",
       "1        1951326  \n",
       "2        1931228  \n",
       "3        1900791  \n",
       "4        1857062  \n",
       "5        1844471  \n",
       "6        1820460  \n",
       "7        1818857  \n",
       "8        1811931  \n",
       "9        1805067  "
      ]
     },
     "execution_count": 13,
     "metadata": {},
     "output_type": "execute_result"
    }
   ],
   "source": [
    "my_Top10ByMonth"
   ]
  },
  {
   "cell_type": "markdown",
   "metadata": {},
   "source": [
    "View Final my_Top10ByDay"
   ]
  },
  {
   "cell_type": "code",
   "execution_count": 14,
   "metadata": {},
   "outputs": [
    {
     "data": {
      "text/html": [
       "<div>\n",
       "<style scoped>\n",
       "    .dataframe tbody tr th:only-of-type {\n",
       "        vertical-align: middle;\n",
       "    }\n",
       "\n",
       "    .dataframe tbody tr th {\n",
       "        vertical-align: top;\n",
       "    }\n",
       "\n",
       "    .dataframe thead th {\n",
       "        text-align: right;\n",
       "    }\n",
       "</style>\n",
       "<table border=\"1\" class=\"dataframe\">\n",
       "  <thead>\n",
       "    <tr style=\"text-align: right;\">\n",
       "      <th></th>\n",
       "      <th>sensor_id</th>\n",
       "      <th>sensor_description</th>\n",
       "      <th>sensor_name</th>\n",
       "      <th>year</th>\n",
       "      <th>month</th>\n",
       "      <th>day</th>\n",
       "      <th>hourly_counts</th>\n",
       "    </tr>\n",
       "  </thead>\n",
       "  <tbody>\n",
       "    <tr>\n",
       "      <th>0</th>\n",
       "      <td>38</td>\n",
       "      <td>Flinders St-Swanston St (West)</td>\n",
       "      <td>Swa11_T</td>\n",
       "      <td>2016</td>\n",
       "      <td>April</td>\n",
       "      <td>Friday</td>\n",
       "      <td>363053</td>\n",
       "    </tr>\n",
       "    <tr>\n",
       "      <th>1</th>\n",
       "      <td>38</td>\n",
       "      <td>Flinders St-Swanston St (West)</td>\n",
       "      <td>Swa11_T</td>\n",
       "      <td>2015</td>\n",
       "      <td>October</td>\n",
       "      <td>Friday</td>\n",
       "      <td>349517</td>\n",
       "    </tr>\n",
       "    <tr>\n",
       "      <th>2</th>\n",
       "      <td>38</td>\n",
       "      <td>Flinders St-Swanston St (West)</td>\n",
       "      <td>Swa11_T</td>\n",
       "      <td>2015</td>\n",
       "      <td>July</td>\n",
       "      <td>Friday</td>\n",
       "      <td>348093</td>\n",
       "    </tr>\n",
       "    <tr>\n",
       "      <th>3</th>\n",
       "      <td>38</td>\n",
       "      <td>Flinders St-Swanston St (West)</td>\n",
       "      <td>Swa11_T</td>\n",
       "      <td>2015</td>\n",
       "      <td>May</td>\n",
       "      <td>Friday</td>\n",
       "      <td>338228</td>\n",
       "    </tr>\n",
       "    <tr>\n",
       "      <th>4</th>\n",
       "      <td>38</td>\n",
       "      <td>Flinders St-Swanston St (West)</td>\n",
       "      <td>Swa11_T</td>\n",
       "      <td>2016</td>\n",
       "      <td>December</td>\n",
       "      <td>Friday</td>\n",
       "      <td>336294</td>\n",
       "    </tr>\n",
       "    <tr>\n",
       "      <th>5</th>\n",
       "      <td>38</td>\n",
       "      <td>Flinders St-Swanston St (West)</td>\n",
       "      <td>Swa11_T</td>\n",
       "      <td>2016</td>\n",
       "      <td>July</td>\n",
       "      <td>Friday</td>\n",
       "      <td>334818</td>\n",
       "    </tr>\n",
       "    <tr>\n",
       "      <th>6</th>\n",
       "      <td>38</td>\n",
       "      <td>Flinders St-Swanston St (West)</td>\n",
       "      <td>Swa11_T</td>\n",
       "      <td>2016</td>\n",
       "      <td>September</td>\n",
       "      <td>Friday</td>\n",
       "      <td>334817</td>\n",
       "    </tr>\n",
       "    <tr>\n",
       "      <th>7</th>\n",
       "      <td>38</td>\n",
       "      <td>Flinders St-Swanston St (West)</td>\n",
       "      <td>Swa11_T</td>\n",
       "      <td>2015</td>\n",
       "      <td>March</td>\n",
       "      <td>Sunday</td>\n",
       "      <td>326073</td>\n",
       "    </tr>\n",
       "    <tr>\n",
       "      <th>8</th>\n",
       "      <td>38</td>\n",
       "      <td>Flinders St-Swanston St (West)</td>\n",
       "      <td>Swa11_T</td>\n",
       "      <td>2016</td>\n",
       "      <td>April</td>\n",
       "      <td>Saturday</td>\n",
       "      <td>325469</td>\n",
       "    </tr>\n",
       "    <tr>\n",
       "      <th>9</th>\n",
       "      <td>38</td>\n",
       "      <td>Flinders St-Swanston St (West)</td>\n",
       "      <td>Swa11_T</td>\n",
       "      <td>2015</td>\n",
       "      <td>May</td>\n",
       "      <td>Saturday</td>\n",
       "      <td>324060</td>\n",
       "    </tr>\n",
       "  </tbody>\n",
       "</table>\n",
       "</div>"
      ],
      "text/plain": [
       "   sensor_id              sensor_description sensor_name  year      month  \\\n",
       "0         38  Flinders St-Swanston St (West)     Swa11_T  2016      April   \n",
       "1         38  Flinders St-Swanston St (West)     Swa11_T  2015    October   \n",
       "2         38  Flinders St-Swanston St (West)     Swa11_T  2015       July   \n",
       "3         38  Flinders St-Swanston St (West)     Swa11_T  2015        May   \n",
       "4         38  Flinders St-Swanston St (West)     Swa11_T  2016   December   \n",
       "5         38  Flinders St-Swanston St (West)     Swa11_T  2016       July   \n",
       "6         38  Flinders St-Swanston St (West)     Swa11_T  2016  September   \n",
       "7         38  Flinders St-Swanston St (West)     Swa11_T  2015      March   \n",
       "8         38  Flinders St-Swanston St (West)     Swa11_T  2016      April   \n",
       "9         38  Flinders St-Swanston St (West)     Swa11_T  2015        May   \n",
       "\n",
       "        day  hourly_counts  \n",
       "0    Friday         363053  \n",
       "1    Friday         349517  \n",
       "2    Friday         348093  \n",
       "3    Friday         338228  \n",
       "4    Friday         336294  \n",
       "5    Friday         334818  \n",
       "6    Friday         334817  \n",
       "7    Sunday         326073  \n",
       "8  Saturday         325469  \n",
       "9  Saturday         324060  "
      ]
     },
     "execution_count": 14,
     "metadata": {},
     "output_type": "execute_result"
    }
   ],
   "source": [
    "my_Top10ByDay"
   ]
  }
 ],
 "metadata": {
  "kernelspec": {
   "display_name": "Python 2",
   "language": "python",
   "name": "python2"
  },
  "language_info": {
   "codemirror_mode": {
    "name": "ipython",
    "version": 2
   },
   "file_extension": ".py",
   "mimetype": "text/x-python",
   "name": "python",
   "nbconvert_exporter": "python",
   "pygments_lexer": "ipython2",
   "version": "2.7.17"
  }
 },
 "nbformat": 4,
 "nbformat_minor": 2
}
